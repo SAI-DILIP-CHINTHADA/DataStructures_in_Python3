{
 "cells": [
  {
   "cell_type": "code",
   "execution_count": 12,
   "metadata": {},
   "outputs": [],
   "source": [
    "def balance_check(s):\n",
    "   \n",
    "    #Check if even number of brackets available\n",
    "    if len(s) % 2 != 0:\n",
    "        return False\n",
    "    \n",
    "    # Set of opening brackets\n",
    "    opening = set('{([')\n",
    "\n",
    "    # Matching Pairs\n",
    "    matches = ([('(',')'),('{','}'),('[',']')])\n",
    "    \n",
    "    #Use a list as a stack\n",
    "    stack = []\n",
    "    \n",
    "    #Check every parentheses in string\n",
    "    for paren in s:\n",
    "        \n",
    "        #If it is opening append it to the list\n",
    "        if paren in opening:\n",
    "            stack.append(paren)\n",
    "        \n",
    "        else: \n",
    "            \n",
    "            #Check that there are parentheses in stack\n",
    "            if len(stack) == 0:\n",
    "                return False\n",
    "            \n",
    "            #Check the last open parentheses\n",
    "            last_open = stack.pop()\n",
    "            \n",
    "            # Check if it has a cloi\n",
    "            if (last_open,paren) not in matches:\n",
    "                return False\n",
    "            \n",
    "    return len(stack) == 0"
   ]
  },
  {
   "cell_type": "markdown",
   "metadata": {},
   "source": [
    "# Testing Solution"
   ]
  },
  {
   "cell_type": "code",
   "execution_count": 11,
   "metadata": {},
   "outputs": [
    {
     "name": "stdout",
     "output_type": "stream",
     "text": [
      "ALL TEST CASES PASSED\n"
     ]
    }
   ],
   "source": [
    "\"\"\"\n",
    "RUN THIS CELL TO TEST YOUR SOLUTION\n",
    "\"\"\"\n",
    "from nose.tools import assert_equal\n",
    "\n",
    "class TestBalanceCheck(object):\n",
    "    \n",
    "    def test(self,sol):\n",
    "        assert_equal(sol('[](){([[[]]])}('),False)\n",
    "        assert_equal(sol('[{{{(())}}}]((()))'),True)\n",
    "        assert_equal(sol('[[[]])]'),False)\n",
    "        print ('ALL TEST CASES PASSED')\n",
    "        \n",
    "# Run Tests\n",
    "\n",
    "t = TestBalanceCheck()\n",
    "t.test(balance_check)"
   ]
  },
  {
   "cell_type": "code",
   "execution_count": null,
   "metadata": {},
   "outputs": [],
   "source": []
  }
 ],
 "metadata": {
  "kernelspec": {
   "display_name": "Python 3",
   "language": "python",
   "name": "python3"
  },
  "language_info": {
   "codemirror_mode": {
    "name": "ipython",
    "version": 3
   },
   "file_extension": ".py",
   "mimetype": "text/x-python",
   "name": "python",
   "nbconvert_exporter": "python",
   "pygments_lexer": "ipython3",
   "version": "3.6.5"
  }
 },
 "nbformat": 4,
 "nbformat_minor": 2
}
