{
 "cells": [
  {
   "cell_type": "code",
   "execution_count": null,
   "metadata": {},
   "outputs": [],
   "source": [
    "arr = [1,2,3,4,5,6,7,8,9,10]"
   ]
  },
  {
   "cell_type": "code",
   "execution_count": null,
   "metadata": {},
   "outputs": [],
   "source": [
    "mid = len(arr)//2"
   ]
  },
  {
   "cell_type": "code",
   "execution_count": null,
   "metadata": {},
   "outputs": [],
   "source": [
    "arr[mid:]"
   ]
  },
  {
   "cell_type": "code",
   "execution_count": null,
   "metadata": {},
   "outputs": [],
   "source": [
    "arr[:mid]"
   ]
  },
  {
   "cell_type": "code",
   "execution_count": null,
   "metadata": {},
   "outputs": [],
   "source": [
    "def merge_sort(arr):\n",
    "    \n",
    "    if len(arr)>1:\n",
    "        \n",
    "        mid = len(arr)//2\n",
    "        lefthalf = arr[:mid]\n",
    "        righthalf = arr[mid:]\n",
    "        \n",
    "        merge_sort(lefthalf)\n",
    "        merge_sort(righthalf)\n",
    "        \n",
    "    i=0\n",
    "    j=0\n",
    "    k=0\n",
    "    \n",
    "    while i < len(lefthalf) and j < len(righthalf):\n",
    "        \n",
    "        if lefthalf[i] < righthalf[j]:\n",
    "            arr[k] = lefthalf[i]\n",
    "            i +=1\n",
    "        \n",
    "        else:\n",
    "            arr[k] = righthalf[j]\n",
    "            j +=1\n",
    "        \n",
    "        k +=1\n",
    "    \n",
    "    while i<len(lefthalf):\n",
    "        arr[k] = lefthalf[i]\n",
    "        i +=1\n",
    "        k +=1\n",
    "    \n",
    "    while j< len(righthalf):\n",
    "        arr[k] = righthalf[j]\n",
    "        j +=1\n",
    "        k +=1"
   ]
  },
  {
   "cell_type": "code",
   "execution_count": null,
   "metadata": {},
   "outputs": [],
   "source": [
    "arr = [11,2,5,4,7,6,8,1,23]\n",
    "merge_sort(arr)\n",
    "arr"
   ]
  },
  {
   "cell_type": "code",
   "execution_count": null,
   "metadata": {},
   "outputs": [],
   "source": [
    "def merge_sort(arr):\n",
    "    \n",
    "    if len(arr)>1:\n",
    "        mid = len(arr)//2\n",
    "        lefthalf = arr[:mid]\n",
    "        righthalf = arr[mid:]\n",
    "        \n",
    "        print(\"Left half and Right half at the begining: \",lefthalf,\", \",righthalf)\n",
    "        merge_sort(lefthalf)\n",
    "        merge_sort(righthalf)\n",
    "\n",
    "        i=0\n",
    "        j=0\n",
    "        k=0\n",
    "        while i < len(lefthalf) and j < len(righthalf):\n",
    "            print(lefthalf,' ',righthalf)\n",
    "            print('intial i:',i,' j:',j,' k',k)\n",
    "            if lefthalf[i] < righthalf[j]:\n",
    "                arr[k]=lefthalf[i]\n",
    "                i=i+1\n",
    "            else:\n",
    "                arr[k]=righthalf[j]\n",
    "                j=j+1\n",
    "            print(\"Value in arr: \",arr[k])\n",
    "            k=k+1\n",
    "            print('Ending i:',i,' j:',j,' k',k)\n",
    "            \n",
    "        while i < len(lefthalf):\n",
    "            print(\"i value: \",i,\"k value: \",k)\n",
    "            arr[k]=lefthalf[i]\n",
    "            print(\"Break at lefthalf: \",arr[k])\n",
    "            i=i+1\n",
    "            k=k+1\n",
    "            \n",
    "        while j < len(righthalf):\n",
    "            print(\"j value: \",j,\"k value: \",k)\n",
    "            arr[k]=righthalf[j]\n",
    "            print(\"Break at righthalf: \",arr[k])\n",
    "            j=j+1\n",
    "            k=k+1\n",
    "            \n",
    "        print(arr)"
   ]
  }
 ],
 "metadata": {
  "kernelspec": {
   "display_name": "Python 3",
   "language": "python",
   "name": "python3"
  },
  "language_info": {
   "codemirror_mode": {
    "name": "ipython",
    "version": 3
   },
   "file_extension": ".py",
   "mimetype": "text/x-python",
   "name": "python",
   "nbconvert_exporter": "python",
   "pygments_lexer": "ipython3",
   "version": "3.6.5"
  }
 },
 "nbformat": 4,
 "nbformat_minor": 2
}
