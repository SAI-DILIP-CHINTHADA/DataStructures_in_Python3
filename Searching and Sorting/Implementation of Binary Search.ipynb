{
 "cells": [
  {
   "cell_type": "markdown",
   "metadata": {},
   "source": [
    "# Implementation of Binary Search"
   ]
  },
  {
   "cell_type": "code",
   "execution_count": 40,
   "metadata": {},
   "outputs": [],
   "source": [
    "def binary_search(arr,ele):\n",
    "    \n",
    "    #First and last index\n",
    "    first = 0\n",
    "    last = len(arr) - 1\n",
    "    found = False\n",
    "    \n",
    "    while first <= last and not found:\n",
    "        \n",
    "        mid = (first+last)//2\n",
    "        \n",
    "        #Match found\n",
    "        if ele == arr[mid]:\n",
    "            found = True\n",
    "        \n",
    "        #Set new midpoints up or down depending on comparisons\n",
    "        else:\n",
    "            #Set down \n",
    "            if ele < arr[mid]:\n",
    "                last = mid - 1\n",
    "            #Set Up\n",
    "            else:\n",
    "                first = mid + 1\n",
    "                \n",
    "    return found"
   ]
  },
  {
   "cell_type": "code",
   "execution_count": 17,
   "metadata": {},
   "outputs": [],
   "source": [
    "arr = [1,5,4,3,2,9,7,6,8]\n",
    "arr.sort()"
   ]
  },
  {
   "cell_type": "code",
   "execution_count": 19,
   "metadata": {},
   "outputs": [
    {
     "data": {
      "text/plain": [
       "False"
      ]
     },
     "execution_count": 19,
     "metadata": {},
     "output_type": "execute_result"
    }
   ],
   "source": [
    "binary_search(arr,12)"
   ]
  },
  {
   "cell_type": "markdown",
   "metadata": {},
   "source": [
    "# Recursive Binary Search"
   ]
  },
  {
   "cell_type": "code",
   "execution_count": 34,
   "metadata": {},
   "outputs": [],
   "source": [
    "def rec_bin_src(arr,ele):\n",
    "    \n",
    "    # Base Case!\n",
    "    if len(arr) == 0:\n",
    "        return False\n",
    "    \n",
    "    #Recursive Case\n",
    "    else:\n",
    "        \n",
    "        mid = len(arr)//2\n",
    "        \n",
    "        #If match found\n",
    "        if ele == arr[mid]:\n",
    "            return True\n",
    "        \n",
    "        else:\n",
    "            \n",
    "            #Call again on second half\n",
    "            if ele < arr[mid]:\n",
    "                return rec_bin_src(arr[:mid],ele)\n",
    "            \n",
    "            #Or call on first half\n",
    "            else:\n",
    "                return rec_bin_src(arr[mid+1:],ele)"
   ]
  },
  {
   "cell_type": "code",
   "execution_count": 35,
   "metadata": {},
   "outputs": [],
   "source": [
    "arr = [1,5,4,3,2,9,7,6,8]\n",
    "arr.sort()"
   ]
  },
  {
   "cell_type": "code",
   "execution_count": 39,
   "metadata": {},
   "outputs": [
    {
     "data": {
      "text/plain": [
       "False"
      ]
     },
     "execution_count": 39,
     "metadata": {},
     "output_type": "execute_result"
    }
   ],
   "source": [
    "rec_bin_src(arr,14)"
   ]
  },
  {
   "cell_type": "code",
   "execution_count": null,
   "metadata": {},
   "outputs": [],
   "source": []
  }
 ],
 "metadata": {
  "kernelspec": {
   "display_name": "Python 3",
   "language": "python",
   "name": "python3"
  },
  "language_info": {
   "codemirror_mode": {
    "name": "ipython",
    "version": 3
   },
   "file_extension": ".py",
   "mimetype": "text/x-python",
   "name": "python",
   "nbconvert_exporter": "python",
   "pygments_lexer": "ipython3",
   "version": "3.6.5"
  }
 },
 "nbformat": 4,
 "nbformat_minor": 2
}
