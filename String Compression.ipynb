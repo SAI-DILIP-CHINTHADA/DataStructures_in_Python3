{
 "cells": [
  {
   "cell_type": "code",
   "execution_count": 30,
   "metadata": {},
   "outputs": [],
   "source": [
    "def compress(s):\n",
    "    \n",
    "    '''\n",
    "    This solution compresses without checking.Known as RunLength Compression Algorithm\n",
    "    '''\n",
    "    \n",
    "    #Begin Run as empty string \n",
    "    r = \"\"\n",
    "    length = len(s)\n",
    "   \n",
    "    #Check for length zero\n",
    "    if length == 0:\n",
    "        return \"\"\n",
    "    \n",
    "    #Check for length one\n",
    "    if length == 1:\n",
    "        return s+\"1\"\n",
    "    \n",
    "    #Initialise values\n",
    "    last = s[0]\n",
    "    i = 1\n",
    "    cnt = 1\n",
    "    \n",
    "    while i < length:\n",
    "        \n",
    "        # Check to see if it is the same letter\n",
    "        if s[i] == s[i-1]:\n",
    "            #Add a count if same as previous\n",
    "             cnt += 1\n",
    "        \n",
    "        else:\n",
    "            #Otherwise store the previous data\n",
    "            r = r + s[i-1] + str(cnt)\n",
    "            cnt = 1\n",
    "        \n",
    "        #Add to index to terminate while loop\n",
    "        i +=1\n",
    "    \n",
    "    #Put everything back into run\n",
    "    r = r +s[i-1] + str(cnt)\n",
    "    \n",
    "    return r       "
   ]
  },
  {
   "cell_type": "code",
   "execution_count": 29,
   "metadata": {},
   "outputs": [
    {
     "data": {
      "text/plain": [
       "'A1B3C3a3'"
      ]
     },
     "execution_count": 29,
     "metadata": {},
     "output_type": "execute_result"
    }
   ],
   "source": [
    "compress('ABBBCCCaaa')"
   ]
  },
  {
   "cell_type": "markdown",
   "metadata": {},
   "source": [
    "#Testing "
   ]
  }
 ],
 "metadata": {
  "kernelspec": {
   "display_name": "Python 3",
   "language": "python",
   "name": "python3"
  },
  "language_info": {
   "codemirror_mode": {
    "name": "ipython",
    "version": 3
   },
   "file_extension": ".py",
   "mimetype": "text/x-python",
   "name": "python",
   "nbconvert_exporter": "python",
   "pygments_lexer": "ipython3",
   "version": "3.6.5"
  }
 },
 "nbformat": 4,
 "nbformat_minor": 2
}
