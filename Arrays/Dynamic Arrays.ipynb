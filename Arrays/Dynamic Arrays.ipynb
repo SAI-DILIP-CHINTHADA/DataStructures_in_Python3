{
 "cells": [
  {
   "cell_type": "markdown",
   "metadata": {},
   "source": [
    "# Dynamic Arrays"
   ]
  },
  {
   "cell_type": "code",
   "execution_count": 10,
   "metadata": {},
   "outputs": [
    {
     "name": "stdout",
     "output_type": "stream",
     "text": [
      "Length: 0 ; Size in bytes: 64\n",
      "Length: 1 ; Size in bytes: 96\n",
      "Length: 2 ; Size in bytes: 96\n",
      "Length: 3 ; Size in bytes: 96\n",
      "Length: 4 ; Size in bytes: 96\n",
      "Length: 5 ; Size in bytes: 128\n",
      "Length: 6 ; Size in bytes: 128\n",
      "Length: 7 ; Size in bytes: 128\n",
      "Length: 8 ; Size in bytes: 128\n",
      "Length: 9 ; Size in bytes: 192\n"
     ]
    }
   ],
   "source": [
    "import sys\n",
    "\n",
    "n = 10\n",
    "\n",
    "data = []\n",
    "\n",
    "for i in range(n):\n",
    "    \n",
    "    # Number of elements\n",
    "    a = len(data)\n",
    "    \n",
    "    # Actual Size in Bytes\n",
    "    b = sys.getsizeof(data)\n",
    "    \n",
    "    print(f'Length: {a} ; Size in bytes: {b}')\n",
    "    \n",
    "     # increase the length by one \n",
    "    data.append(n)    "
   ]
  },
  {
   "cell_type": "markdown",
   "metadata": {},
   "source": [
    "# Dynamic Array Implementation"
   ]
  },
  {
   "cell_type": "code",
   "execution_count": 1,
   "metadata": {},
   "outputs": [],
   "source": [
    "class M:\n",
    "    \n",
    "    def public(self):\n",
    "        print('Use tab to see me!')\n",
    "        \n",
    "    def _private(self):\n",
    "        print(\"You won't able to tab to see me!\")"
   ]
  },
  {
   "cell_type": "code",
   "execution_count": 2,
   "metadata": {},
   "outputs": [],
   "source": [
    "m = M()"
   ]
  },
  {
   "cell_type": "code",
   "execution_count": 6,
   "metadata": {},
   "outputs": [
    {
     "name": "stdout",
     "output_type": "stream",
     "text": [
      "You won't able to tab to see me!\n"
     ]
    }
   ],
   "source": [
    "m._private()"
   ]
  },
  {
   "cell_type": "code",
   "execution_count": null,
   "metadata": {},
   "outputs": [],
   "source": [
    "import ctypes\n",
    "\n",
    "class DynamicArray:\n",
    "    \n",
    "    def _init_(self):\n",
    "        \n",
    "    "
   ]
  }
 ],
 "metadata": {
  "kernelspec": {
   "display_name": "Python 3",
   "language": "python",
   "name": "python3"
  },
  "language_info": {
   "codemirror_mode": {
    "name": "ipython",
    "version": 3
   },
   "file_extension": ".py",
   "mimetype": "text/x-python",
   "name": "python",
   "nbconvert_exporter": "python",
   "pygments_lexer": "ipython3",
   "version": "3.6.5"
  }
 },
 "nbformat": 4,
 "nbformat_minor": 2
}
