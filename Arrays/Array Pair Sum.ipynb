{
 "cells": [
  {
   "cell_type": "code",
   "execution_count": 19,
   "metadata": {},
   "outputs": [],
   "source": [
    "def pair_sum(arr,k): \n",
    "    \n",
    "    if len(arr) < 2:\n",
    "        return print(\"Please enter 2 or more numbers in array\")\n",
    "    \n",
    "    #Set for tracking\n",
    "    seen = set()\n",
    "    output = set()\n",
    "    \n",
    "    #For every number in array\n",
    "    for num in arr:\n",
    "        \n",
    "        #Set target difference\n",
    "        target = k - num\n",
    "        \n",
    "        #Add it to target if target hasn't been seen\n",
    "        if target not in seen:\n",
    "            seen.add(num)\n",
    "            \n",
    "        else:\n",
    "            #Add a tuple with corresponding pair\n",
    "            output.add( (min(num,target) , max(num,target)) )\n",
    "    \n",
    "    #return len(output) for testing\n",
    "    return print(\"\\t\".join(map(str,list(output))))"
   ]
  },
  {
   "cell_type": "code",
   "execution_count": 20,
   "metadata": {},
   "outputs": [
    {
     "name": "stdout",
     "output_type": "stream",
     "text": [
      "(1, 5)\t(2, 4)\n"
     ]
    }
   ],
   "source": [
    "pair_sum([1,5,4,5,2],6)"
   ]
  },
  {
   "cell_type": "code",
   "execution_count": null,
   "metadata": {},
   "outputs": [],
   "source": []
  }
 ],
 "metadata": {
  "kernelspec": {
   "display_name": "Python 3",
   "language": "python",
   "name": "python3"
  },
  "language_info": {
   "codemirror_mode": {
    "name": "ipython",
    "version": 3
   },
   "file_extension": ".py",
   "mimetype": "text/x-python",
   "name": "python",
   "nbconvert_exporter": "python",
   "pygments_lexer": "ipython3",
   "version": "3.6.5"
  }
 },
 "nbformat": 4,
 "nbformat_minor": 2
}
